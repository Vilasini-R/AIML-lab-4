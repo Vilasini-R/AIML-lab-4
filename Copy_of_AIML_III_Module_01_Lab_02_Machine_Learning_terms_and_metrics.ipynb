{
  "cells": [
    {
      "cell_type": "markdown",
      "metadata": {
        "id": "view-in-github",
        "colab_type": "text"
      },
      "source": [
        "<a href=\"https://colab.research.google.com/github/Vilasini-R/AIML-lab-4/blob/main/Copy_of_AIML_III_Module_01_Lab_02_Machine_Learning_terms_and_metrics.ipynb\" target=\"_parent\"><img src=\"https://colab.research.google.com/assets/colab-badge.svg\" alt=\"Open In Colab\"/></a>"
      ]
    },
    {
      "cell_type": "markdown",
      "metadata": {
        "id": "3Eu9VZbF01eq"
      },
      "source": [
        "# Machine Learning terms and metrics\n",
        "\n",
        "Module 1, Lab 2\n",
        "\n",
        "In this lab, we will show a part of the ML pipeline by using the California Housing dataset. There are 20640 samples, each with 8 attributes like income of the block, age of the houses per district etc. The task is to predict the cost of the houses per district. We will use the scikit-learn library to load the data and perform some basic data preprocessing and model training. We will also show how to evaluate the model using some common metrics, split the data into training and testing sets, and use cross-validation to get a better estimate of the model's performance."
      ]
    },
    {
      "cell_type": "code",
      "execution_count": null,
      "metadata": {
        "id": "8qBvyEem0vLi"
      },
      "outputs": [],
      "source": [
        "import matplotlib.pyplot as plt\n",
        "import numpy as np\n",
        "from sklearn import datasets\n",
        "\n",
        "rng = np.random.default_rng(seed=42)\n",
        "import pandas as pd"
      ]
    },
    {
      "cell_type": "code",
      "execution_count": null,
      "metadata": {
        "colab": {
          "base_uri": "https://localhost:8080/"
        },
        "id": "8LpqjN991GGJ",
        "outputId": "5380a7ae-1cda-40e6-d0fe-745136d32c60"
      },
      "outputs": [
        {
          "output_type": "stream",
          "name": "stdout",
          "text": [
            ".. _california_housing_dataset:\n",
            "\n",
            "California Housing dataset\n",
            "--------------------------\n",
            "\n",
            "**Data Set Characteristics:**\n",
            "\n",
            "    :Number of Instances: 20640\n",
            "\n",
            "    :Number of Attributes: 8 numeric, predictive attributes and the target\n",
            "\n",
            "    :Attribute Information:\n",
            "        - MedInc        median income in block group\n",
            "        - HouseAge      median house age in block group\n",
            "        - AveRooms      average number of rooms per household\n",
            "        - AveBedrms     average number of bedrooms per household\n",
            "        - Population    block group population\n",
            "        - AveOccup      average number of household members\n",
            "        - Latitude      block group latitude\n",
            "        - Longitude     block group longitude\n",
            "\n",
            "    :Missing Attribute Values: None\n",
            "\n",
            "This dataset was obtained from the StatLib repository.\n",
            "https://www.dcc.fc.up.pt/~ltorgo/Regression/cal_housing.html\n",
            "\n",
            "The target variable is the median house value for California districts,\n",
            "expressed in hundreds of thousands of dollars ($100,000).\n",
            "\n",
            "This dataset was derived from the 1990 U.S. census, using one row per census\n",
            "block group. A block group is the smallest geographical unit for which the U.S.\n",
            "Census Bureau publishes sample data (a block group typically has a population\n",
            "of 600 to 3,000 people).\n",
            "\n",
            "A household is a group of people residing within a home. Since the average\n",
            "number of rooms and bedrooms in this dataset are provided per household, these\n",
            "columns may take surprisingly large values for block groups with few households\n",
            "and many empty houses, such as vacation resorts.\n",
            "\n",
            "It can be downloaded/loaded using the\n",
            ":func:`sklearn.datasets.fetch_california_housing` function.\n",
            "\n",
            ".. topic:: References\n",
            "\n",
            "    - Pace, R. Kelley and Ronald Barry, Sparse Spatial Autoregressions,\n",
            "      Statistics and Probability Letters, 33 (1997) 291-297\n",
            "\n"
          ]
        }
      ],
      "source": [
        "dataset = datasets.fetch_california_housing()\n",
        "print(dataset.DESCR)"
      ]
    },
    {
      "cell_type": "markdown",
      "metadata": {
        "id": "PCe1VNftevgE"
      },
      "source": [
        "Given below are the list of target values. These correspond to the house value derived considering all the 8 input features and are continuous values. We should use regression models to predict these values but we will start with a simple classification model for the sake of simplicity. We need to just round off the values to the nearest integer and use a classification model to predict the house value."
      ]
    },
    {
      "cell_type": "code",
      "execution_count": null,
      "metadata": {
        "colab": {
          "base_uri": "https://localhost:8080/"
        },
        "id": "F8K0ggBOevgE",
        "outputId": "04928013-be5f-4c1c-ee28-3512b439b7a5"
      },
      "outputs": [
        {
          "output_type": "stream",
          "name": "stdout",
          "text": [
            "Original target values: [4.526 3.585 3.521 ... 0.923 0.847 0.894]\n",
            "Target values after conversion: [4 3 3 ... 0 0 0]\n",
            "Input variables shape: (20640, 8)\n",
            "Output variables shape: (20640,)\n"
          ]
        }
      ],
      "source": [
        "print(\"Original target values:\", dataset.target)\n",
        "\n",
        "dataset.target = dataset.target.astype(int)\n",
        "\n",
        "print(\"Target values after conversion:\", dataset.target)\n",
        "print(\"Input variables shape:\", dataset.data.shape)\n",
        "print(\"Output variables shape:\", dataset.target.shape)"
      ]
    },
    {
      "cell_type": "markdown",
      "metadata": {
        "id": "iNx4174W5xRg"
      },
      "source": [
        "The simplest model to use for classification is the K-Nearest Neighbors model. We will use this model to predict the house value with a K value of 1. We will also use the accuracy metric to evaluate the model."
      ]
    },
    {
      "cell_type": "code",
      "execution_count": null,
      "metadata": {
        "id": "07zpydQj1hIQ"
      },
      "outputs": [],
      "source": [
        "def NN1(traindata, trainlabel, query):\n",
        "    diff = traindata - query\n",
        "    sq = diff * diff\n",
        "    dist = sq.sum(1)\n",
        "    label = trainlabel[np.argmin(dist)]\n",
        "    return label\n",
        "\n",
        "def NN(traindata, trainlabel, testdata):\n",
        "    predlabel = np.array([NN1(traindata, trainlabel, i) for i in testdata])\n",
        "    return predlabel\n"
      ]
    },
    {
      "cell_type": "markdown",
      "metadata": {
        "id": "03JktkfIGaje"
      },
      "source": [
        "We will also define a 'random classifier', which randomly allots labels to each sample"
      ]
    },
    {
      "cell_type": "code",
      "execution_count": null,
      "metadata": {
        "id": "fogWAtjyGhAH"
      },
      "outputs": [],
      "source": [
        "def RandomClassifier(traindata, trainlabel, testdata):\n",
        "    classes = np.unique(trainlabel)\n",
        "    rints = rng.integers(low=0, high=len(classes), size=len(testdata))\n",
        "    predlabel = classes[rints]\n",
        "    return predlabel"
      ]
    },
    {
      "cell_type": "markdown",
      "metadata": {
        "id": "1Hjf1KHs7fU5"
      },
      "source": [
        "We need a metric to evaluate the performance of the model. Let us define a metric 'Accuracy' to see how good our learning algorithm is. Accuracy is the ratio of the number of correctly classified samples to the total number of samples. The higher the accuracy, the better the algorithm. We will use the accuracy metric to evaluate and compate the performance of the K-Nearest Neighbors model and the random classifier."
      ]
    },
    {
      "cell_type": "code",
      "execution_count": null,
      "metadata": {
        "id": "ouuCqWU07bz-"
      },
      "outputs": [],
      "source": [
        "def Accuracy(gtlabel, predlabel):\n",
        "    assert len(gtlabel) == len(predlabel), \"Length of the ground-truth labels and predicted labels should be the same\"\n",
        "    correct = (gtlabel == predlabel).sum()\n",
        "    return correct / len(gtlabel)"
      ]
    },
    {
      "cell_type": "markdown",
      "metadata": {
        "id": "4vJFwBFa9Klw"
      },
      "source": [
        "Let us make a function to split the dataset with the desired probability. We will use this function to split the dataset into training and testing sets. We will use the training set to train the model and the testing set to evaluate the model."
      ]
    },
    {
      "cell_type": "code",
      "execution_count": null,
      "metadata": {
        "id": "Ko0VzpSM2Tdi"
      },
      "outputs": [],
      "source": [
        "def split(data, label, percent):\n",
        "    rnd = rng.random(len(label))\n",
        "    split1 = rnd < percent\n",
        "    split2 = rnd >= percent\n",
        "    split1data = data[split1, :]\n",
        "    split1label = label[split1]\n",
        "    split2data = data[split2, :]\n",
        "    split2label = label[split2]\n",
        "    return split1data, split1label, split2data, split2label"
      ]
    },
    {
      "cell_type": "markdown",
      "metadata": {
        "id": "AcK3LEAJ_LGC"
      },
      "source": [
        "We will reserve 20% of our dataset as the test set. We will not change this portion throughout our experiments"
      ]
    },
    {
      "cell_type": "code",
      "execution_count": null,
      "metadata": {
        "colab": {
          "base_uri": "https://localhost:8080/"
        },
        "id": "bBZkHBLJ1iU-",
        "outputId": "473d0585-7e90-4edb-e33e-eddd55dec868"
      },
      "outputs": [
        {
          "output_type": "stream",
          "name": "stdout",
          "text": [
            "Number of test samples: 4144\n",
            "Number of train samples: 16496\n",
            "Percent of test data: 20.07751937984496 %\n"
          ]
        }
      ],
      "source": [
        "testdata, testlabel, alltraindata, alltrainlabel = split(dataset.data, dataset.target, 20 / 100)\n",
        "print(\"Number of test samples:\", len(testlabel))\n",
        "print(\"Number of train samples:\", len(alltrainlabel))\n",
        "print(\"Percent of test data:\", len(testlabel) * 100 / len(dataset.target), \"%\")"
      ]
    },
    {
      "cell_type": "markdown",
      "metadata": {
        "id": "a6Ss0Z6IAGNV"
      },
      "source": [
        "## Experiments with splits\n",
        "\n",
        "Let us reserve some of our train data as a validation set"
      ]
    },
    {
      "cell_type": "code",
      "execution_count": null,
      "metadata": {
        "id": "WFew2iry_7W7"
      },
      "outputs": [],
      "source": [
        "traindata, trainlabel, valdata, vallabel = split(alltraindata, alltrainlabel, 75 / 100)"
      ]
    },
    {
      "cell_type": "markdown",
      "metadata": {
        "id": "60hiu4clFN1i"
      },
      "source": [
        "What is the accuracy of our classifiers on the train dataset?"
      ]
    },
    {
      "cell_type": "code",
      "execution_count": null,
      "metadata": {
        "colab": {
          "base_uri": "https://localhost:8080/"
        },
        "id": "DBlZDTHUFTZx",
        "outputId": "a54ebcdd-c4f9-4965-a162-6c9fc0129587"
      },
      "outputs": [
        {
          "output_type": "stream",
          "name": "stdout",
          "text": [
            "Training accuracy using nearest neighbour algorithm: 100.0 %\n",
            "Training accuracy using random classifier: 16.4375808538163 %\n"
          ]
        }
      ],
      "source": [
        "trainpred = NN(traindata, trainlabel, traindata)\n",
        "trainAccuracy = Accuracy(trainlabel, trainpred)\n",
        "print(\"Training accuracy using nearest neighbour algorithm:\", trainAccuracy * 100, \"%\")\n",
        "\n",
        "trainpred = RandomClassifier(traindata, trainlabel, traindata)\n",
        "trainAccuracy = Accuracy(trainlabel, trainpred)\n",
        "print(\"Training accuracy using random classifier:\", trainAccuracy * 100, \"%\")"
      ]
    },
    {
      "cell_type": "markdown",
      "metadata": {
        "id": "7h08-9gJDtSy"
      },
      "source": [
        "For nearest neighbour, the train accuracy is always 1. The accuracy of the random classifier is close to 1/(number of classes) which is 0.1666 in our case. This is because the random classifier randomly assigns a label to each sample and the probability of assigning the correct label is 1/(number of classes). Let us predict the labels for our validation set and get the accuracy. This accuracy is a good estimate of the accuracy of our model on unseen data."
      ]
    },
    {
      "cell_type": "code",
      "execution_count": null,
      "metadata": {
        "colab": {
          "base_uri": "https://localhost:8080/"
        },
        "id": "4h7bXoW_2H3v",
        "outputId": "3763449e-ca2d-4e8b-dc69-2da2ffda2c6b"
      },
      "outputs": [
        {
          "output_type": "stream",
          "name": "stdout",
          "text": [
            "Validation accuracy using nearest neighbour algorithm: 34.10852713178294 %\n",
            "Validation accuracy using random classifier: 16.884689922480618 %\n"
          ]
        }
      ],
      "source": [
        "valpred = NN(traindata, trainlabel, valdata)\n",
        "valAccuracy = Accuracy(vallabel, valpred)\n",
        "print(\"Validation accuracy using nearest neighbour algorithm:\", valAccuracy * 100, \"%\")\n",
        "\n",
        "valpred = RandomClassifier(traindata, trainlabel, valdata)\n",
        "valAccuracy = Accuracy(vallabel, valpred)\n",
        "print(\"Validation accuracy using random classifier:\", valAccuracy * 100, \"%\")"
      ]
    },
    {
      "cell_type": "markdown",
      "metadata": {
        "id": "py9bLguFEjfg"
      },
      "source": [
        "Validation accuracy of nearest neighbour is considerably less than its train accuracy while the validation accuracy of random classifier is the same. However, the validation accuracy of nearest neighbour is twice that of the random classifier. Now let us try another random split and check the validation accuracy. We will see that the validation accuracy changes with the split. This is because the validation set is small and the accuracy is highly dependent on the samples in the validation set. We can get a better estimate of the accuracy by using cross-validation."
      ]
    },
    {
      "cell_type": "code",
      "execution_count": null,
      "metadata": {
        "colab": {
          "base_uri": "https://localhost:8080/"
        },
        "id": "ujm3cyYzEntE",
        "outputId": "d0dd3e95-b277-41ac-fa62-1c0596f88daf"
      },
      "outputs": [
        {
          "output_type": "stream",
          "name": "stdout",
          "text": [
            "Validation accuracy using nearest neighbour algorithm: 34.10852713178294 %\n"
          ]
        }
      ],
      "source": [
        "valpred = NN(traindata, trainlabel, valdata)\n",
        "valAccuracy = Accuracy(vallabel, valpred)\n",
        "print(\"Validation accuracy using nearest neighbour algorithm:\", valAccuracy * 100, \"%\")"
      ]
    },
    {
      "cell_type": "markdown",
      "metadata": {
        "id": "oSOx7U83EKie"
      },
      "source": [
        "You can run the above cell multiple times to try with different random splits.\n",
        "We notice that the accuracy is different for each run, but close together.\n",
        "\n",
        "Now let us compare it with the accuracy we get on the test dataset."
      ]
    },
    {
      "cell_type": "code",
      "execution_count": null,
      "metadata": {
        "colab": {
          "base_uri": "https://localhost:8080/"
        },
        "id": "PNEZ5ToYBEDW",
        "outputId": "3e6c5d6e-2c16-4a4b-c67e-87a1f2903c0a"
      },
      "outputs": [
        {
          "output_type": "stream",
          "name": "stdout",
          "text": [
            "Test accuracy: 34.91795366795367 %\n"
          ]
        }
      ],
      "source": [
        "testpred = NN(alltraindata, alltrainlabel, testdata)\n",
        "testAccuracy = Accuracy(testlabel, testpred)\n",
        "print(\"Test accuracy:\", testAccuracy * 100, \"%\")"
      ]
    },
    {
      "cell_type": "markdown",
      "metadata": {
        "id": "w3dGD531K3gH"
      },
      "source": [
        "### Try it out for yourself and answer:\n",
        "1. How is the accuracy of the validation set affected if we increase the percentage of validation set? What happens when we reduce it?\n",
        "2. How does the size of the train and validation set affect how well we can predict the accuracy on the test set using the validation set?\n",
        "3. What do you think is a good percentage to reserve for the validation set so that thest two factors are balanced?\n",
        "\n",
        "Answer for both nearest neighbour and random classifier. You can note down the values for your experiments and plot a graph using  <a href=https://matplotlib.org/stable/gallery/lines_bars_and_markers/step_demo.html#sphx-glr-gallery-lines-bars-and-markers-step-demo-py>plt.plot<href>. Check also for extreme values for splits, like 99.9% or 0.1%"
      ]
    },
    {
      "cell_type": "markdown",
      "source": [
        "1. How is the accuracy of the validation set affected if we increase the percentage of validation set? What happens when we reduce it?"
      ],
      "metadata": {
        "id": "_T-U0wjaSOVc"
      }
    },
    {
      "cell_type": "code",
      "source": [
        "accuracies_nn = []\n",
        "for split_ratio in range(1, 11):\n",
        "    train_data, train_labels, val_data, val_labels = split(alltraindata, alltrainlabel, split_ratio / 10)\n",
        "    val_predictions = NN(train_data, train_labels, val_data)\n",
        "    val_accuracy = Accuracy(val_labels, val_predictions)\n",
        "    accuracies_nn.append(val_accuracy)\n",
        "\n",
        "plt.plot(list(range(1, 11)), accuracies_nn)\n",
        "plt.xlabel(\"% of validation set (in tenths)\")\n",
        "plt.ylabel(\"Accuracy\")\n",
        "plt.title(\"Accuracy of Neural Network for Different Splits\")\n",
        "plt.show()\n"
      ],
      "metadata": {
        "colab": {
          "base_uri": "https://localhost:8080/",
          "height": 507
        },
        "id": "WH6OR1cKSQKU",
        "outputId": "9dde72c3-22d4-492a-daa6-6d0364c7ed6e"
      },
      "execution_count": null,
      "outputs": [
        {
          "output_type": "stream",
          "name": "stderr",
          "text": [
            "<ipython-input-7-f95662af0813>:4: RuntimeWarning: invalid value encountered in scalar divide\n",
            "  return correct / len(gtlabel)\n"
          ]
        },
        {
          "output_type": "display_data",
          "data": {
            "text/plain": [
              "<Figure size 640x480 with 1 Axes>"
            ],
            "image/png": "[encoded data removed]"
          },
          "metadata": {}
        }
      ]
    },
    {
      "cell_type": "markdown",
      "source": [
        "As we can see above, the performance doesn't change much for validation data above 10%.\n"
      ],
      "metadata": {
        "id": "vb-JmpHjYqlN"
      }
    },
    {
      "cell_type": "code",
      "source": [
        "accuracies_rc = []\n",
        "for split_ratio in range(1, 11):\n",
        "    train_data, train_labels, val_data, val_labels = split(alltraindata, alltrainlabel, split_ratio / 10)\n",
        "    val_predictions = RandomClassifier(train_data, train_labels, val_data)\n",
        "    val_accuracy = Accuracy(val_labels, val_predictions)\n",
        "    accuracies_rc.append(val_accuracy)\n",
        "\n",
        "plt.plot(list(range(1, 11)), accuracies_rc)\n",
        "plt.xlabel(\"% of validation set (in tenths)\")\n",
        "plt.ylabel(\"Accuracy\")\n",
        "plt.title(\"Accuracy of Random Classifier for Different Splits\")\n",
        "plt.show()\n"
      ],
      "metadata": {
        "colab": {
          "base_uri": "https://localhost:8080/",
          "height": 507
        },
        "id": "O_72hBg7YsRV",
        "outputId": "cda610ee-ceb3-40e9-b31e-1d6c026e4eaa"
      },
      "execution_count": null,
      "outputs": [
        {
          "output_type": "stream",
          "name": "stderr",
          "text": [
            "<ipython-input-7-f95662af0813>:4: RuntimeWarning: invalid value encountered in scalar divide\n",
            "  return correct / len(gtlabel)\n"
          ]
        },
        {
          "output_type": "display_data",
          "data": {
            "text/plain": [
              "<Figure size 640x480 with 1 Axes>"
            ],
            "image/png": "[encoded data removed]"
          },
          "metadata": {}
        }
      ]
    },
    {
      "cell_type": "markdown",
      "source": [
        "The accuracy is always around 1/6 = 0.1666666."
      ],
      "metadata": {
        "id": "hwQCGhdFZm5r"
      }
    },
    {
      "cell_type": "markdown",
      "source": [
        "2) How does the size of the train and validation set affect how well we can predict the accuracy on the test set using the validation set?\n",
        "\n",
        "Because a KNN lacks standard training phase and parameters like weights and biases, the size of the training set is the only element that influences the size of the validation set.\n",
        "\n",
        "This should make one thing very clear: this method does not lead to overfitting. The size of the training dataset does, however, affect this parameter; higher proportions will raise it by increasing the number of examples that are comparable to those in a particular dataset group, while lower proportions will lead to lower test accuracy rates.\n",
        "\n",
        "However, parameterized models detect overfitting during training using the validation set instead of KNN.\n",
        "\n"
      ],
      "metadata": {
        "id": "k_Pdd22pbiSb"
      }
    },
    {
      "cell_type": "markdown",
      "source": [
        "3) What do you think is a good percentage to reserve for the validation set so that thest two factors are balanced?\n",
        "\n",
        "The size and complexity of the dataset determine the ideal split:\n",
        "A balanced split like 60-20-20 (training-validation-test) ensures that there is enough training data for smaller datasets while keeping a sizable validation set.\n",
        "Smaller validation percentages (e.g., 1% or 0.5%) may be advantageous for larger datasets since they maximize computing efficiency and learning potential by focusing more data on training."
      ],
      "metadata": {
        "id": "ApFAek0yhfxf"
      }
    },
    {
      "cell_type": "markdown",
      "metadata": {
        "id": "M9zvdYY6evgI"
      },
      "source": [
        "> Exercise: Try to implement a 3 nearest neighbour classifier and compare the accuracy of the 1 nearest neighbour classifier and the 3 nearest neighbour classifier on the test dataset. You can use the KNeighborsClassifier class from the scikit-learn library to implement the K-Nearest Neighbors model. You can set the number of neighbors using the n_neighbors parameter. You can also use the accuracy_score function from the scikit-learn library to calculate the accuracy of the model."
      ]
    },
    {
      "cell_type": "code",
      "source": [
        "import numpy as np\n",
        "from sklearn.neighbors import KNeighborsClassifier\n",
        "from sklearn.metrics import accuracy_score\n",
        "\n",
        "print(\"Shapes: alltraindata={}, alltrainlabel={}, testdata={}, testlabel={}\".format(\n",
        "    alltraindata.shape if hasattr(alltraindata, 'shape') else \"Not a numpy array\",\n",
        "    alltrainlabel.shape if hasattr(alltrainlabel, 'shape') else \"Not a numpy array\",\n",
        "    testdata.shape if hasattr(testdata, 'shape') else \"Not a numpy array\",\n",
        "    testlabel.shape if hasattr(testlabel, 'shape') else \"Not a numpy array\"\n",
        "))\n",
        "\n",
        "def NN3(traindata, trainlabel, testdata):\n",
        "    neigh = KNeighborsClassifier(n_neighbors=3)\n",
        "    neigh.fit(traindata, trainlabel)\n",
        "    predlabel = neigh.predict(testdata)\n",
        "    return predlabel\n",
        "\n",
        "testpred_3nn = NN3(alltraindata, alltrainlabel, testdata)\n",
        "testAccuracy_3nn = accuracy_score(testlabel, testpred_3nn)\n",
        "print(\"Test accuracy with 3-Nearest Neighbors:\", testAccuracy_3nn * 100, \"%\")\n",
        "\n",
        "testpred_1nn = NN(alltraindata, alltrainlabel, testdata)\n",
        "testAccuracy_1nn = Accuracy(testlabel, testpred_1nn)\n",
        "print(\"Test accuracy with 1-Nearest Neighbors (from earlier):\", testAccuracy_1nn * 100, \"%\")\n"
      ],
      "metadata": {
        "colab": {
          "base_uri": "https://localhost:8080/"
        },
        "id": "SofIqma9PqZm",
        "outputId": "09e79659-061d-4484-e401-5c367b1ae01b"
      },
      "execution_count": null,
      "outputs": [
        {
          "output_type": "stream",
          "name": "stdout",
          "text": [
            "Shapes: alltraindata=(16496, 8), alltrainlabel=(16496,), testdata=(4144, 8), testlabel=(4144,)\n",
            "Test accuracy with 3-Nearest Neighbors: 36.05212355212355 %\n",
            "Test accuracy with 1-Nearest Neighbors (from earlier): 34.91795366795367 %\n"
          ]
        }
      ]
    },
    {
      "cell_type": "markdown",
      "metadata": {
        "id": "PnYvkAZLQY7h"
      },
      "source": [
        "## Multiple Splits\n",
        "\n",
        "One way to get more accurate estimates for the test accuracy is by using <b>cross-validation</b>. Here, we will try a simple version, where we do multiple train/val splits and take the average of validation accuracies as the test accuracy estimation. Here is a function for doing this. Note that this function will take a long time to execute. You can reduce the number of splits to make it faster."
      ]
    },
    {
      "cell_type": "code",
      "execution_count": null,
      "metadata": {
        "id": "E4nGCUQXBTzo"
      },
      "outputs": [],
      "source": [
        "def AverageAccuracy(alldata, alllabel, splitpercent, iterations, classifier=NN):\n",
        "    accuracy = 0\n",
        "    for ii in range(iterations):\n",
        "        traindata, trainlabel, valdata, vallabel = split(alldata, alllabel, splitpercent)\n",
        "        valpred = classifier(traindata, trainlabel, valdata)\n",
        "        accuracy += Accuracy(vallabel, valpred)\n",
        "    return accuracy / iterations"
      ]
    },
    {
      "cell_type": "code",
      "execution_count": null,
      "metadata": {
        "colab": {
          "base_uri": "https://localhost:8080/"
        },
        "id": "H3qtNar7Bbik",
        "outputId": "6f6db561-52c1-42f6-aed1-167a09c576b1"
      },
      "outputs": [
        {
          "output_type": "stream",
          "name": "stdout",
          "text": [
            "Average validation accuracy: 33.764890643687565 %\n",
            "Test accuracy: 34.91795366795367 %\n"
          ]
        }
      ],
      "source": [
        "avg_acc = AverageAccuracy(alltraindata, alltrainlabel, 75 / 100, 10, classifier=NN)\n",
        "print(\"Average validation accuracy:\", avg_acc * 100, \"%\")\n",
        "\n",
        "testpred = NN(alltraindata, alltrainlabel, testdata)\n",
        "print(\"Test accuracy:\", Accuracy(testlabel, testpred) * 100, \"%\")"
      ]
    },
    {
      "cell_type": "markdown",
      "metadata": {
        "id": "33GIn4x5VH-d"
      },
      "source": [
        "This is a very simple way of doing cross-validation. There are many well-known algorithms for cross-validation, like k-fold cross-validation, leave-one-out etc. This will be covered in detail in a later module. For more information about cross-validation, check <a href=https://en.wikipedia.org/wiki/Cross-validation_(statistics)>Cross-validatioin (Wikipedia)</a>\n",
        "\n",
        "### Questions\n",
        "1. Does averaging the validation accuracy across multiple splits give more consistent results?\n",
        "2. Does it give more accurate estimate of test accuracy?\n",
        "3. What is the effect of the number of iterations on the estimate? Do we get a better estimate with higher iterations?\n",
        "4. Consider the results you got for the previous questions. Can we deal with a very small train dataset or validation dataset by increasing the iterations?\n"
      ]
    },
    {
      "cell_type": "markdown",
      "metadata": {
        "id": "z-SBxy1qevgJ"
      },
      "source": [
        "> Exercise: How does the accuracy of the 3 nearest neighbour classifier change with the number of splits? How is it affected by the split size? Compare the results with the 1 nearest neighbour classifier."
      ]
    },
    {
      "cell_type": "code",
      "source": [
        "def kNN1(traindata, trainlabel, query, k=1):\n",
        "    diff = traindata - query\n",
        "    sq = diff * diff\n",
        "    dist = sq.sum(1)\n",
        "    k_indices = np.argpartition(dist, k)[:k]\n",
        "    k_labels = trainlabel[k_indices]\n",
        "    return np.bincount(k_labels).argmax()"
      ],
      "metadata": {
        "id": "0-IZapFuIxP_"
      },
      "execution_count": null,
      "outputs": []
    },
    {
      "cell_type": "code",
      "source": [
        "def kNN(traindata, trainlabel, testdata, k=1):\n",
        "    predlabel = np.array([kNN1(traindata, trainlabel, i, k) for i in testdata])\n",
        "    return predlabel"
      ],
      "metadata": {
        "id": "j5Lg6bszI1Wd"
      },
      "execution_count": null,
      "outputs": []
    },
    {
      "cell_type": "code",
      "source": [
        "def compare_kNN_accuracies(alldata, alllabel, splitpercent, iterations):\n",
        "    avg_acc_k1 = AverageAccuracy(alldata, alllabel, splitpercent, iterations, classifier=lambda td, tl, qd: kNN(td, tl, qd, k=1))\n",
        "    avg_acc_k3 = AverageAccuracy(alldata, alllabel, splitpercent, iterations, classifier=lambda td, tl, qd: kNN(td, tl, qd, k=3))\n",
        "    return avg_acc_k1, avg_acc_k3"
      ],
      "metadata": {
        "id": "n9By06nVI7ex"
      },
      "execution_count": null,
      "outputs": []
    },
    {
      "cell_type": "code",
      "source": [
        "split_sizes = [0.2, 0.5, 0.75]\n",
        "iterations = 10\n",
        "\n",
        "for split_size in split_sizes:\n",
        "    avg_acc_k1, avg_acc_k3 = compare_kNN_accuracies(alltraindata, alltrainlabel, split_size, iterations)\n",
        "    print(f\"Split size {split_size*100}%:\")\n",
        "    print(f\"Average validation accuracy for k=1: {avg_acc_k1*100:.2f}%\")\n",
        "    print(f\"Average validation accuracy for k=3: {avg_acc_k3*100:.2f}%\\n\")"
      ],
      "metadata": {
        "colab": {
          "base_uri": "https://localhost:8080/"
        },
        "id": "7qBVfJewJAoI",
        "outputId": "7af52f8f-d97c-4189-ff6f-a33f56df5d92"
      },
      "execution_count": null,
      "outputs": [
        {
          "output_type": "stream",
          "name": "stdout",
          "text": [
            "Split size 20.0%:\n",
            "Average validation accuracy for k=1: 30.89%\n",
            "Average validation accuracy for k=3: 31.57%\n",
            "\n",
            "Split size 50.0%:\n",
            "Average validation accuracy for k=1: 33.13%\n",
            "Average validation accuracy for k=3: 33.61%\n",
            "\n",
            "Split size 75.0%:\n",
            "Average validation accuracy for k=1: 33.93%\n",
            "Average validation accuracy for k=3: 34.72%\n",
            "\n"
          ]
        }
      ]
    },
    {
      "cell_type": "markdown",
      "source": [
        "Data Creation: Retrieve and preprocess the California housing data set by converting target values ​​to integers.\n",
        "\n",
        "Model definition: Explain the capabilities of NN1, NN, RandomClassifier, k-NN classifiers.\n",
        "\n",
        "Accuracy audits: Define the characteristics of accuracy audits and divide the record into school, certification, and test units.\n",
        "\n",
        "Accuracy Evaluation: Check the accuracy of training and validation of NN and RandomClassifier.\n",
        "\n",
        "Average Accuracy: Use reasonable accuracy and calculate over multiple iterations.\n",
        "\n",
        "K-NN comparison: Extend the okay-NN classifier to handle k=1 and okay=three, and test their overall performance on a fact partition."
      ],
      "metadata": {
        "id": "yGK4d--xKEVe"
      }
    },
    {
      "cell_type": "markdown",
      "source": [
        "Questions and Answers\n",
        "\n",
        "1) Does averaging the validation accuracy across multiple splits give more consistent results?\n",
        "\n",
        "Yes, more consistent results are typically obtained by averaging the validation accuracy across numerous splits. The unpredictability brought on by the specific selection of training and validation sets is minimized by carrying out repeated splits. This reduces the impact of any one split, resulting in a more steady and trustworthy estimate of the model's performance.\n",
        "\n",
        "\n",
        "\n",
        "2) Does it give more accurate estimate of test accuracy?\n",
        "\n",
        "By averaging the validation accuracy over a number of splits, one can typically approximate the test accuracy more accurately. so that it reduces the likelihood of bias arising from a particular data split and accounts for the unpredictable nature of every split. An estimate that has a large number of splits is more likely to properly represent the model's real performance.\n",
        "\n",
        "\n",
        "\n",
        "3) What is the effect of the number of iterations on the estimate? Do we get a better estimate with higher iterations?\n",
        "\n",
        "An estimate that is more accurate is usually obtained with many rounds. More iterations that compute the average accuracy over a larger number of splits reduce the volatility of the estimate. This makes it possible to assess the model's performance more consistently and accurately. There are trade-offs between the number of iterations and computing cost, though, since more iterations necessitate longer processing periods.\n",
        "\n",
        "\n",
        "\n",
        "\n",
        "4) Consider the results you got for the previous questions. Can we deal with a very small train dataset or validation dataset by increasing the iterations?\n",
        "\n",
        "Increasing the number of iterations can help mitigate the issues caused by having a relatively limited training or validation dataset, albeit it is not a perfect solution. With very small sample numbers, the model may still exhibit excessive volatility and poor generalization. The inherent limitations resulting from sparse data cannot be entirely overcome, however putting the model through numerous iterations can yield a more accurate evaluation of its performance. Generally speaking, a sufficiently large dataset is best for effectively training and verifying the model.\n",
        "\n",
        "\n",
        "\n"
      ],
      "metadata": {
        "id": "175_2yepWSae"
      }
    }
  ],
  "metadata": {
    "colab": {
      "provenance": [],
      "include_colab_link": true
    },
    "kernelspec": {
      "display_name": "Python 3",
      "name": "python3"
    },
    "language_info": {
      "codemirror_mode": {
        "name": "ipython",
        "version": 3
      },
      "file_extension": ".py",
      "mimetype": "text/x-python",
      "name": "python",
      "nbconvert_exporter": "python",
      "pygments_lexer": "ipython3",
      "version": "3.10.10"
    }
  },
  "nbformat": 4,
  "nbformat_minor": 0
}